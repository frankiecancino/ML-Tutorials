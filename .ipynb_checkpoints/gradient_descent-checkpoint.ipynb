{
 "cells": [
  {
   "cell_type": "markdown",
   "metadata": {},
   "source": [
    "# What is Gradient Descent?"
   ]
  },
  {
   "cell_type": "markdown",
   "metadata": {},
   "source": [
    "### Author: Frankie Cancino"
   ]
  },
  {
   "cell_type": "markdown",
   "metadata": {},
   "source": [
    "## Overview"
   ]
  },
  {
   "cell_type": "markdown",
   "metadata": {},
   "source": [
    "This tutorial is on the basics of gradient descent. It is also a continuation of the Intro to Machine Learning post, \"What is Machine Learning?\", which can be found [here.](https://medium.com/swlh/what-is-machine-learning-ff27b518909b)"
   ]
  },
  {
   "cell_type": "markdown",
   "metadata": {},
   "source": [
    "### So what is gradient descent?"
   ]
  },
  {
   "cell_type": "markdown",
   "metadata": {},
   "source": [
    "Gradient descent is a method of finding the optimal weights for a model. In our case, gradient is the slope of the error we calculate when testing out our machine learning model. While descent, is the attempt to minimize this error by incrementally stepping in the right direction. A common explanation of gradient descent is the idea of standing on an uneven baseball field, blindfolded, and you want to find the lowest point of the field. Naturally, you will use your feet to inch your way to the lowest point on the field. Looking for any downward slope. Conceptually, this is what we are doing to minimize our error and find our best performing machine learning model."
   ]
  },
  {
   "cell_type": "markdown",
   "metadata": {},
   "source": [
    "### How does this relate to our y = mx + b equation in the first tutorial?"
   ]
  },
  {
   "cell_type": "markdown",
   "metadata": {},
   "source": [
    "We can calculate derivatives, our error, and update our weights (a.k.a. `m` and `b`)."
   ]
  },
  {
   "cell_type": "markdown",
   "metadata": {},
   "source": [
    "## Example"
   ]
  },
  {
   "cell_type": "markdown",
   "metadata": {},
   "source": [
    "Let's get started. The only two libraries we will be using are numpy and matplotlib. Numpy is a great library for mathematical computations, whereas matplotlib is used for visualizations and graphing."
   ]
  },
  {
   "cell_type": "markdown",
   "metadata": {},
   "source": [
    "### Importing libraries we will be using"
   ]
  },
  {
   "cell_type": "code",
   "execution_count": 1,
   "metadata": {},
   "outputs": [],
   "source": [
    "# Numpy is a powerful library in Python to do mathemetical computations\n",
    "import numpy as np\n",
    "\n",
    "# Importing matplotlib for visualizations\n",
    "from matplotlib import pyplot as plt"
   ]
  },
  {
   "cell_type": "markdown",
   "metadata": {},
   "source": [
    "### We can create some data that will follow this equation: `y = 4x + 2` where `m` = 4, `b` = 2"
   ]
  },
  {
   "cell_type": "markdown",
   "metadata": {},
   "source": [
    "Since we know the ground truth, we can create some data that follows this equation. We can also compare our weights calculated using gradient descent to the ground truth, where m = 4 and b = 2."
   ]
  },
  {
   "cell_type": "code",
   "execution_count": 2,
   "metadata": {},
   "outputs": [
    {
     "data": {
      "image/png": "[encoded data removed]",
      "text/plain": [
       "<Figure size 432x288 with 1 Axes>"
      ]
     },
     "metadata": {
      "needs_background": "light"
     },
     "output_type": "display_data"
    }
   ],
   "source": [
    "X = np.array([1, 2, 3, 4, 5, 6, 7, 8, 9, 10])\n",
    "y = np.array([6, 10, 14, 18, 22, 26, 30, 34, 38, 42])\n",
    "\n",
    "plt.plot(X, y)\n",
    "plt.title('Made up data following the equation y = 4x + 2')\n",
    "plt.ylabel('y')\n",
    "plt.xlabel('X')\n",
    "plt.show()"
   ]
  },
  {
   "cell_type": "markdown",
   "metadata": {},
   "source": [
    "### Now let's create a Gradient Descent function in Python"
   ]
  },
  {
   "cell_type": "code",
   "execution_count": 3,
   "metadata": {},
   "outputs": [],
   "source": [
    "def gradient_descent(x, y, learning_rate, steps):\n",
    "    # Randomly initialize m and b. Here we set them to 0.\n",
    "    m = b = 0\n",
    "    \n",
    "    # N is just the number of observations\n",
    "    N = len(x)\n",
    "    \n",
    "    # Creating an empty list to plot how the error changes\n",
    "    # over time later on with matplotlib.\n",
    "    error_history = list()\n",
    "    \n",
    "    # Loop through the number of iterations specified to get closer to the optimal model\n",
    "    for i in range(steps):\n",
    "        # Since y = mx + b, we predict y is going to be m * x + b\n",
    "        y_predicted = (m * x) + b\n",
    "        \n",
    "        # We calculate the error for each model we try, attempting to get the least amount of error possible\n",
    "        # In this case we calculate the mean squared error (MSE)\n",
    "        error = (1 / N) * sum([value ** 2 for value in (y - y_predicted)])\n",
    "        # Append to the error history, so we can visualize later\n",
    "        error_history.append(error)\n",
    "        \n",
    "        # Calculate the partial derivatives for m and b\n",
    "        dm = (-2 / N) * sum(x * (y - y_predicted))\n",
    "        db = (-2 / N) * sum((y - y_predicted))\n",
    "        \n",
    "        # Update m and b based on the partial derivatives and the specified learning rate\n",
    "        m = m - learning_rate * dm\n",
    "        b = b - learning_rate * db\n",
    "        \n",
    "        # Print the step number, error, and weights\n",
    "        print(f\"Step {i + 1} \\n Error = {error} \\n m = {m} \\n b = {b} \\n\")\n",
    "        \n",
    "    return m, b, error_history"
   ]
  },
  {
   "cell_type": "markdown",
   "metadata": {},
   "source": [
    "### Let's break this function down"
   ]
  },
  {
   "cell_type": "markdown",
   "metadata": {},
   "source": [
    "* First we set m and b equal to 0. This is to randomly intitialize these variables, you can set them to whatever value you want.\n",
    "* Then we find how many data points we have and put that as variable `N`\n",
    "* We create an empty array to save the history of the error (remember, error is the difference between what we predicted and the actual value)\n",
    "* Finally, we create the gradient descent loop:\n",
    "  * We calculate our predicted point which is y in mx + b. So, we end up with `y_predicted = mx + b`\n",
    "  * We calculate the error for each point we predicted. In this case we use mean squared error (MSE). This is calculated by finding the error, then squaring it, and then taking the average of all of the squared errors.  \n",
    "  * Then we add the MSE to the history array to visualize later.\n",
    "  * Now, we do something very important and fundamental for the gradient descent algorithm - we calculate the partial derivatives for our weights. A partial derivative just holds the other variables constant while you figure out how the variable you are observing behaved during the process.\n",
    "  * Then we update our weights `m` and `b` according to the partial derivatives and the learning rate we specified. (Learning rate is how large of a step you are taking)\n",
    "  * Then finally we print out the values and return the variables.\n",
    "\n",
    "_Formulas:_\n",
    "  $$MSE = \\frac{1}{N} \\sum_{i=1}^{N} (y_i - \\hat{y}_i)^2$$\n",
    "  \n",
    "  $$\\frac{\\partial}{\\partial m} = \\frac{-2}{N} \\sum_{i=1}^{N} x (y_i - (m{x}_i + b)) $$\n",
    "  \n",
    "  $$\\frac{\\partial}{\\partial b} = \\frac{-2}{N} \\sum_{i=1}^{N} (y_i - (m{x}_i + b)) $$"
   ]
  },
  {
   "cell_type": "markdown",
   "metadata": {},
   "source": [
    "We can specify how many \"steps\" we want the gradient descent algorithm to run. Essentially, how many steps you are allowed to make on that baseball field while blindfolded."
   ]
  },
  {
   "cell_type": "code",
   "execution_count": 4,
   "metadata": {},
   "outputs": [],
   "source": [
    "steps = 5"
   ]
  },
  {
   "cell_type": "markdown",
   "metadata": {},
   "source": [
    "We can also specify the \"learning rate\", which will tell us how big those steps are. Conceptually, think about how big of a step you are allowed to take, each time you take one on the baseball field. Too big of steps could cause you to over-shoot the lowest point of the field. However, too little of steps will make it take longer for you to find the lowest point. This variable becomes more widely talked about in deep learning. For now we will set it to 0.01."
   ]
  },
  {
   "cell_type": "code",
   "execution_count": 5,
   "metadata": {},
   "outputs": [],
   "source": [
    "learning_rate = 0.01"
   ]
  },
  {
   "cell_type": "markdown",
   "metadata": {},
   "source": [
    "Now let's run our made-up data through gradient descent and see what `m` and `b` values pop out."
   ]
  },
  {
   "cell_type": "code",
   "execution_count": 6,
   "metadata": {},
   "outputs": [
    {
     "name": "stdout",
     "output_type": "stream",
     "text": [
      "Step 1 \n",
      " Error = 708.0 \n",
      " m = 3.3000000000000003 \n",
      " b = 0.48 \n",
      "\n",
      "Step 2 \n",
      " Error = 32.8794 \n",
      " m = 4.0062 \n",
      " b = 0.5873999999999999 \n",
      "\n",
      "Step 3 \n",
      " Error = 1.9005793800000028 \n",
      " m = 4.1568119999999995 \n",
      " b = 0.6149699999999999 \n",
      "\n",
      "Step 4 \n",
      " Error = 0.4759406616840016 \n",
      " m = 4.18842006 \n",
      " b = 0.62542128 \n",
      "\n",
      "Step 5 \n",
      " Error = 0.40731798550902065 \n",
      " m = 4.194540273 \n",
      " b = 0.6321866478 \n",
      "\n"
     ]
    }
   ],
   "source": [
    "m, b, error_history = gradient_descent(X, y, learning_rate, steps)"
   ]
  },
  {
   "cell_type": "markdown",
   "metadata": {},
   "source": [
    "Notice, the error continues to decrease and `m` approaches 4 while `b` approaches 2. If we increase the number of steps the algorithm is allowed to take, it will get even closer to the real values."
   ]
  },
  {
   "cell_type": "code",
   "execution_count": 7,
   "metadata": {},
   "outputs": [
    {
     "name": "stdout",
     "output_type": "stream",
     "text": [
      "Step 1 \n",
      " Error = 708.0 \n",
      " m = 3.3000000000000003 \n",
      " b = 0.48 \n",
      "\n",
      "Step 2 \n",
      " Error = 32.8794 \n",
      " m = 4.0062 \n",
      " b = 0.5873999999999999 \n",
      "\n",
      "Step 3 \n",
      " Error = 1.9005793800000028 \n",
      " m = 4.1568119999999995 \n",
      " b = 0.6149699999999999 \n",
      "\n",
      "Step 4 \n",
      " Error = 0.4759406616840016 \n",
      " m = 4.18842006 \n",
      " b = 0.62542128 \n",
      "\n",
      "Step 5 \n",
      " Error = 0.40731798550902065 \n",
      " m = 4.194540273 \n",
      " b = 0.6321866478 \n",
      "\n",
      "Step 6 \n",
      " Error = 0.4009385900344457 \n",
      " m = 4.1952037315320005 \n",
      " b = 0.638143484814 \n",
      "\n",
      "Step 7 \n",
      " Error = 0.3974420855790127 \n",
      " m = 4.19470107492282 \n",
      " b = 0.6439082046491998 \n",
      "\n",
      "Step 8 \n",
      " Error = 0.3941047048606723 \n",
      " m = 4.193951344720837 \n",
      " b = 0.6496129223147056 \n",
      "\n",
      "Step 9 \n",
      " Error = 0.39080125244398833 \n",
      " m = 4.1931513878311755 \n",
      " b = 0.6552860159491194 \n",
      "\n",
      "Step 10 \n",
      " Error = 0.38752576100510977 \n",
      " m = 4.1923433574467674 \n",
      " b = 0.6609336429687077 \n",
      "\n"
     ]
    }
   ],
   "source": [
    "steps = 10\n",
    "m, b, error_history = gradient_descent(X, y, learning_rate, steps)"
   ]
  },
  {
   "cell_type": "markdown",
   "metadata": {},
   "source": [
    "You can see with more steps, we get closer to the real `m` and `b` values of 4 and 2!"
   ]
  },
  {
   "cell_type": "markdown",
   "metadata": {},
   "source": [
    "### Let's take a look at how the error changed after each step"
   ]
  },
  {
   "cell_type": "code",
   "execution_count": 8,
   "metadata": {},
   "outputs": [
    {
     "data": {
      "image/png": "[encoded data removed]",
      "text/plain": [
       "<Figure size 432x288 with 1 Axes>"
      ]
     },
     "metadata": {
      "needs_background": "light"
     },
     "output_type": "display_data"
    }
   ],
   "source": [
    "plt.plot(range(steps), error_history)\n",
    "plt.title('Error over time')\n",
    "plt.ylabel('Error')\n",
    "plt.xlabel('Number of Steps')\n",
    "plt.show()"
   ]
  },
  {
   "cell_type": "markdown",
   "metadata": {},
   "source": [
    "As we can see, it sharply declines and gets better. Then it slowly gets better. You will see this type of plot often when training deep learning or other machine learning models."
   ]
  },
  {
   "cell_type": "markdown",
   "metadata": {},
   "source": [
    "### Now let's look at the line the gradient descent algorithm came up with, plotted with the actual line."
   ]
  },
  {
   "cell_type": "code",
   "execution_count": 9,
   "metadata": {},
   "outputs": [
    {
     "data": {
      "image/png": "[encoded data removed]",
      "text/plain": [
       "<Figure size 432x288 with 1 Axes>"
      ]
     },
     "metadata": {
      "needs_background": "light"
     },
     "output_type": "display_data"
    }
   ],
   "source": [
    "y_predicted = (m * X) + b\n",
    "\n",
    "plt.plot(X, y)\n",
    "plt.plot(X, y_predicted)\n",
    "plt.title('Estimation Using Gradient Descent')\n",
    "plt.ylabel('y')\n",
    "plt.xlabel('X')\n",
    "plt.legend([\"Actual\", \"Estimated using Gradient Descent\"])\n",
    "plt.show()"
   ]
  },
  {
   "cell_type": "markdown",
   "metadata": {},
   "source": [
    "We can see the gradient descent algorithm did a pretty good job! If we allowed gradient descent to run even longer, it would be able to lineup even closer to the actual function in this plot."
   ]
  },
  {
   "cell_type": "markdown",
   "metadata": {},
   "source": [
    "## Summary"
   ]
  },
  {
   "cell_type": "markdown",
   "metadata": {},
   "source": [
    "To conclude, gradient descent is an algorithm to optimize a machine learning model. It attempts to find the best weights for the model, in order to approximate a function found in data. Over time, the errors will (hopefully) decrease and accuracy will increase. In order to do this, the gradient descent algorithm calculates the partial derivatives of the weights. These partial derivatives tell the algorithm in which direction to update the weights. While the learning rate tells us how large of a step the weights are allowed to take, in the direction given by the partial derivatives."
   ]
  },
  {
   "cell_type": "markdown",
   "metadata": {},
   "source": [
    "## Bio"
   ]
  },
  {
   "cell_type": "markdown",
   "metadata": {},
   "source": [
    "Frankie Cancino is a Senior AI Scientist for Target, living in the San Francisco Bay Area, and the founder of the Data Science Minneapolis group."
   ]
  },
  {
   "cell_type": "markdown",
   "metadata": {},
   "source": [
    "### Links\n",
    "* [What is Machine Learning?](https://medium.com/swlh/what-is-machine-learning-ff27b518909b)\n",
    "* [LinkedIn](https://www.linkedin.com/in/frankie-cancino/)\n",
    "* [Twitter](https://twitter.com/frankiecancino)"
   ]
  }
 ],
 "metadata": {
  "kernelspec": {
   "display_name": "Python 3",
   "language": "python",
   "name": "python3"
  },
  "language_info": {
   "codemirror_mode": {
    "name": "ipython",
    "version": 3
   },
   "file_extension": ".py",
   "mimetype": "text/x-python",
   "name": "python",
   "nbconvert_exporter": "python",
   "pygments_lexer": "ipython3",
   "version": "3.7.6"
  }
 },
 "nbformat": 4,
 "nbformat_minor": 4
}
