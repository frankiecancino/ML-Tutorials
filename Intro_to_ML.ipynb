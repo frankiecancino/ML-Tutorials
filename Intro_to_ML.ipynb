{
 "cells": [
  {
   "cell_type": "markdown",
   "metadata": {},
   "source": [
    "# What is Machine Learning?"
   ]
  },
  {
   "cell_type": "markdown",
   "metadata": {},
   "source": [
    "## Overview"
   ]
  },
  {
   "cell_type": "markdown",
   "metadata": {},
   "source": [
    "Machine learning, put simply, is the ability to use algorithms and mathematics to find patterns in data. You'll find machine learning applied to time-series data (such as stock exchange data), language, images, etc. All it really is doing, is finding mathematical representations within the data that you fed it. These algorithms, trained on data, can then be saved and are referred to as models. The models model the data, creating a generalized representation.\n",
    "\n",
    "For example, if we feed an algorithm designed to classify fruit, we can send this algorithm images of apples and oranges. We also label the images as apples or oranges. Eventually, with enough data, the algorithm will find patterns in the images of apples and oranges that it can use to separate the two. A pattern it may notice, is the color of the objects in the images. To keep things simple, it may generalize that if you send it a picture of a red fruit then it must be an apple. If you send it an image with the color orange, it must be the fruit orange. We know that this is not always the case, if we introduce more fruits with various colors it could throw off the machine learning algorithm and cause it to perform poorly. There are many ways to increase the performance of machine learning algorithms, but we won't visit these now."
   ]
  },
  {
   "cell_type": "markdown",
   "metadata": {},
   "source": [
    "### What Machine Learning **isn't** (as of now)"
   ]
  },
  {
   "cell_type": "markdown",
   "metadata": {},
   "source": [
    "Currently, machine learning is not capable of replacing humans in countless jobs or be able to achieve Artificial General Intelligence and take over the world. In fact, machine learning models are quite fragile and can perform poorly with small changes to the data you show the model."
   ]
  },
  {
   "cell_type": "markdown",
   "metadata": {},
   "source": [
    "### What Machine Learning **is**"
   ]
  },
  {
   "cell_type": "markdown",
   "metadata": {},
   "source": [
    "It would be better to think of machine learning as an assistant to human tasks. Machine learning can automate a lot of tedious tasks allowing humans to focus on more difficult matters. For example, if we can use a machine learning algorithm to help doctors identify issues in x-rays, it frees up the doctor to help more patients. The machine learning model can assist in labeling what is wrong and what the disease **might** be. With enough trust, perhaps the model can be used to help automate diagnoses when it's absolutely sure. Any uncertainty can be relayed back to the doctor to make a decision and give his expert opinion. We shouldn't trust the machine learning model to do everything, but it certainly could help a human work efficiently."
   ]
  },
  {
   "cell_type": "markdown",
   "metadata": {},
   "source": [
    "## Example"
   ]
  },
  {
   "cell_type": "markdown",
   "metadata": {},
   "source": [
    "We won't get into a heavy dose of mathematics to understand the basics of machine learning, but we can use some simple equations to help illustrate what is going on. For this example we will show a little code and some visualizations to help illustrate how machine learning works at a high-level."
   ]
  },
  {
   "cell_type": "markdown",
   "metadata": {},
   "source": [
    "### Plotting Library For Graphing"
   ]
  },
  {
   "cell_type": "code",
   "execution_count": 1,
   "metadata": {},
   "outputs": [],
   "source": [
    "from matplotlib import pyplot as plt"
   ]
  },
  {
   "cell_type": "code",
   "execution_count": 2,
   "metadata": {},
   "outputs": [
    {
     "data": {
      "image/png": "[encoded data removed]",
      "text/plain": [
       "<Figure size 432x288 with 1 Axes>"
      ]
     },
     "metadata": {
      "needs_background": "light"
     },
     "output_type": "display_data"
    }
   ],
   "source": [
    "marketing_dollars = [0, 100, 150, 200, 250, 300, 350, 400, 450, 500, 550, 600, 650, 700, 750, 800, 850, 900, 950]\n",
    "revenue_dollars = [10000, 11000, 15500, 20002, 20500, 30000, 30005, 40001, 45855, 50005, 55000, 60000, 60500, 70007, 70500, 80800, 85005, 90000, 90500]\n",
    "\n",
    "plt.plot(marketing_dollars, revenue_dollars)\n",
    "plt.title('Effect of Marketing on Revenue')\n",
    "plt.ylabel('Revenue in $')\n",
    "plt.xlabel('Marketing Budget in $')\n",
    "plt.show()"
   ]
  },
  {
   "cell_type": "markdown",
   "metadata": {},
   "source": [
    "Here we have some made-up data about a hypothetical situation where we are looking at the effect of marketing budget on revenue. As we can see, the relationship is relatively linear with some noise. If we were to feed this data to a machine learning algorithm, it would give us a linear line as the mathematical representation. For those that remember the equation `y = mx + b`, that's essentially what the model would give us. With `y` = Revenue, `m` = some slope (this is what the machine learning algorithm tries to learn), `x` = the marketing budget we observe, and `b` = the y-intercept. Let's see what a simple Linear Regression model will tell us. Linear Regression is essentially this `y = mx + b` equation. Machine Learning practitioners will use Linear Regression as a baseline and to see what it's telling us about the data before moving onto more complex algorithms."
   ]
  },
  {
   "cell_type": "markdown",
   "metadata": {},
   "source": [
    "### Import Scikit Learn for Machine Learning Algorithms"
   ]
  },
  {
   "cell_type": "code",
   "execution_count": 3,
   "metadata": {},
   "outputs": [],
   "source": [
    "# Import NumPy to format data in a specific way\n",
    "import numpy as np\n",
    "# Import Scikit-Learn to allow us to run Linear Regression\n",
    "from sklearn.linear_model import LinearRegression\n",
    "model = LinearRegression()"
   ]
  },
  {
   "cell_type": "markdown",
   "metadata": {},
   "source": [
    "What linear regression is going to give us, is the `y = mx + b` equation that fits this data. That's all there is to it, this is what the machine learning algorithm is doing. Below is some code to format the data in a specific way, not important for the purpose of this exercise."
   ]
  },
  {
   "cell_type": "code",
   "execution_count": 4,
   "metadata": {},
   "outputs": [],
   "source": [
    "# Scikit learn needs the data in a specific shape so we use NumPy to change the way the data is formatted\n",
    "marketing_dollars = np.array(marketing_dollars)\n",
    "revenue_dollars = np.array(revenue_dollars)\n",
    "marketing_dollars = marketing_dollars.reshape(-1, 1)\n",
    "revenue_dollars = revenue_dollars.reshape(-1, 1)"
   ]
  },
  {
   "cell_type": "markdown",
   "metadata": {},
   "source": [
    "Now we can actually train the algorithm. We \"fit\" the algorithm with data. Imagine the `model = LinearRegression()` line of code, in one of the cells above, creates an empty shell. This shell has the Linear Regression algorithm present, but we need to \"fit\" or fill this shell with data to train a model."
   ]
  },
  {
   "cell_type": "code",
   "execution_count": 5,
   "metadata": {},
   "outputs": [],
   "source": [
    "fitted_model = model.fit(marketing_dollars, revenue_dollars)"
   ]
  },
  {
   "cell_type": "markdown",
   "metadata": {},
   "source": [
    "Now let's look at the coefficient and y-intercept of the model. Coefficients are essentially the `m` in the y = mx + b equation. You can have multiple `m`'s and these are features in machine learning. We don't want too many, but enough to allow the machine learning algorithm to learn."
   ]
  },
  {
   "cell_type": "code",
   "execution_count": 6,
   "metadata": {},
   "outputs": [
    {
     "name": "stdout",
     "output_type": "stream",
     "text": [
      "The coefficient, or the 'm' in y = mx + b is 95.00675781948166\n",
      "The y-intercept, or the 'b' in y = mx + b is 1966.6388739946487\n"
     ]
    }
   ],
   "source": [
    "print(f\"The coefficient, or the 'm' in y = mx + b is {fitted_model.coef_[0][0]}\")\n",
    "print(f\"The y-intercept, or the 'b' in y = mx + b is {fitted_model.intercept_[0]}\")"
   ]
  },
  {
   "cell_type": "markdown",
   "metadata": {},
   "source": [
    "Let's create the function the machine learning algorithm determined would fit this data, manually."
   ]
  },
  {
   "cell_type": "code",
   "execution_count": 7,
   "metadata": {},
   "outputs": [],
   "source": [
    "# Function the same as y = mx + b\n",
    "# Where m = 95.00675781948166 and b = 1966.6388739946487\n",
    "def y_mx_b(x):\n",
    "    y = (95.00675781948166 * x) + 1966.6388739946487\n",
    "    \n",
    "    return y"
   ]
  },
  {
   "cell_type": "markdown",
   "metadata": {},
   "source": [
    "Now let's run the marketing dollars through our own algorithm that we found via Linear Regression to see how it would look on a graph."
   ]
  },
  {
   "cell_type": "code",
   "execution_count": 8,
   "metadata": {},
   "outputs": [],
   "source": [
    "machine_learning_fit = list()\n",
    "for i in range(len(marketing_dollars)):\n",
    "    prediction = y_mx_b(marketing_dollars[i][0])\n",
    "    \n",
    "    machine_learning_fit.append(prediction)"
   ]
  },
  {
   "cell_type": "markdown",
   "metadata": {},
   "source": [
    "Now what if we plotted this y = mx + b equation on our previous graph?"
   ]
  },
  {
   "cell_type": "code",
   "execution_count": 9,
   "metadata": {},
   "outputs": [
    {
     "data": {
      "image/png": "[encoded data removed]",
      "text/plain": [
       "<Figure size 432x288 with 1 Axes>"
      ]
     },
     "metadata": {
      "needs_background": "light"
     },
     "output_type": "display_data"
    }
   ],
   "source": [
    "plt.plot(marketing_dollars, revenue_dollars)\n",
    "plt.plot(marketing_dollars, machine_learning_fit)\n",
    "plt.title('Effect of Marketing on Revenue')\n",
    "plt.ylabel('Revenue in $')\n",
    "plt.xlabel('Marketing Budget in $')\n",
    "plt.legend(['Revenue', 'Linear Regression'])\n",
    "plt.show()"
   ]
  },
  {
   "cell_type": "markdown",
   "metadata": {},
   "source": [
    "It does a nice job! Notice how it is just a linear line fitting our data? This is what machine learning is doing at a high-level. Taking data and finding a function that would fit this data and generalize."
   ]
  },
  {
   "cell_type": "markdown",
   "metadata": {},
   "source": [
    "## Summary"
   ]
  },
  {
   "cell_type": "markdown",
   "metadata": {},
   "source": [
    "To conclude, machine learning is just finding patterns in data. If we give a machine learnin algorithm data, it does its best to generalize a function that would fit the data. We used a made-up example and it showed that we could get a sufficient `y = mx + b` type of algorithm out of Linear Regression. We took the coefficient and intercept from the Linear Regression output and created our own `y = mx + b` function using the values from the Linear Regression model. We saw that the `y = mx + b` line fit the data very well. Remember that machine learning isn't some mystical concept that is going to take over the human race (anytime soon at least). We saw in action of what machine learning generally does."
   ]
  },
  {
   "cell_type": "markdown",
   "metadata": {},
   "source": [
    "### Links\n",
    "* [Scikit-Learn Docs](https://scikit-learn.org/stable/)\n",
    "* [LinkedIn](https://www.linkedin.com/in/frankie-cancino/)\n",
    "* [Twitter](https://twitter.com/frankiecancino)"
   ]
  },
  {
   "cell_type": "code",
   "execution_count": null,
   "metadata": {},
   "outputs": [],
   "source": []
  }
 ],
 "metadata": {
  "kernelspec": {
   "display_name": "Python 3 (ipykernel)",
   "language": "python",
   "name": "python3"
  },
  "language_info": {
   "codemirror_mode": {
    "name": "ipython",
    "version": 3
   },
   "file_extension": ".py",
   "mimetype": "text/x-python",
   "name": "python",
   "nbconvert_exporter": "python",
   "pygments_lexer": "ipython3",
   "version": "3.11.1"
  }
 },
 "nbformat": 4,
 "nbformat_minor": 4
}
