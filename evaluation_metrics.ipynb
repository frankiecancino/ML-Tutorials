{
 "cells": [
  {
   "cell_type": "markdown",
   "metadata": {},
   "source": [
    "# Evaluation Metrics for Machine Learning"
   ]
  },
  {
   "cell_type": "markdown",
   "metadata": {},
   "source": [
    "## Overview"
   ]
  },
  {
   "cell_type": "markdown",
   "metadata": {},
   "source": [
    "There are a plethora of metrics to determine the performance of machine learning models. It is beneficial to know which evaluation metric will properly measure your model performance. Certain metrics measure model performance better than others, depending on the use case. We will go over some of the common evaluation metrics for both regression and classification models."
   ]
  },
  {
   "cell_type": "markdown",
   "metadata": {},
   "source": [
    "## Regression"
   ]
  },
  {
   "cell_type": "markdown",
   "metadata": {},
   "source": [
    "Regression is used to predict a continuous output and minimizes error. For example, you could use a regression model to predict something like sales or revenue. With two of the fundamental evaluation metrics for regression models being Mean Absolute Error and Mean Squared Error.\n",
    "\n",
    "_Note: A trick to calculating regression metrics is to work backwards. Let's use Mean Absolute Error (MAE) as an example. First calculate the Error, then the Absolute value, and finally the Mean a.k.a average. We essentially calculated MAE backwards as \"EAM\"._"
   ]
  },
  {
   "cell_type": "markdown",
   "metadata": {},
   "source": [
    "### MAE (Mean Absolute Error)"
   ]
  },
  {
   "cell_type": "markdown",
   "metadata": {},
   "source": [
    "Mean Absolute Error calculates the absolute difference between the actual values and the predicted values from your model. MAE is good to use as a baseline, since it takes a look at the absolute error. The problem with using MAE, is that the metric is relative to the values and residuals. For example, what is conisdered a good or bad MAE? Obviously you'd like to have MAE close to 0, but when your errors are large values it becomes more difficult to evaluate your model using MAE.\n",
    "\n",
    "_Note: Using absolute error is also used as L-1 Normalization for Lasso Regression_\n",
    "\n",
    "Formula to calculate MAE:\n",
    "\n",
    "$$MAE = \\frac{1}{N} \\sum_{i=1}^{N} |y_i - \\hat{y}_i|$$"
   ]
  },
  {
   "cell_type": "markdown",
   "metadata": {},
   "source": [
    "### MSE (Mean Squared Error)"
   ]
  },
  {
   "cell_type": "markdown",
   "metadata": {},
   "source": [
    "Mean Squared Error calculates the error and then squares the difference, before calculating the mean or average. MSE is another good metric to use as a baseline, since it is a fundamental evaluation metric like MAE. However, MSE inflates errors since each value is squared. Again causing evaluating your model to be difficult.\n",
    "\n",
    "_Note: Using the sqaured values is also used as L-2 Normalization for Ridge Regression_\n",
    "\n",
    "Formula to calculate MSE:\n",
    "    \n",
    "$$MSE = \\frac{1}{N} \\sum_{i=1}^{N} (y_i - \\hat{y}_i)^2$$"
   ]
  },
  {
   "cell_type": "markdown",
   "metadata": {},
   "source": [
    "### RMSE (Root Mean Squared Error)"
   ]
  },
  {
   "cell_type": "markdown",
   "metadata": {},
   "source": [
    "Root Mean Squared Error is just like MSE, but taking the sqaure root of the output. RMSE is another fundamental evaluation metric based on the squaring of residuals, but penalizes larger errors more.\n",
    "\n",
    "Formula to calculate RMSE:\n",
    "    \n",
    "$$RMSE = \\sqrt{\\frac{1}{N} \\sum_{i=1}^{N} (y_i - \\hat{y}_i)^2}$$"
   ]
  },
  {
   "cell_type": "markdown",
   "metadata": {},
   "source": [
    "### MAPE (Mean Absolute Percentage Error)"
   ]
  },
  {
   "cell_type": "markdown",
   "metadata": {},
   "source": [
    "Mean Absolute Percentage Error attempts to solve the issue with MAE. In which MAE becomes relative based on the scale of your residuals. MAPE will transform the errors into percentages, where you want your MAPE to be as close to 0 as possible. There are other metrics using absolute values and percentages as well. (e.g. APE, Weighted MAPE, Symmetrical MAPE, etc.)\n",
    "\n",
    "Formula to calculate MAPE:\n",
    "\n",
    "$$MAPE = \\frac{1}{N} \\sum_{i=1}^{N} |\\frac{y_i - \\hat{y}_i}{y_i}|$$"
   ]
  },
  {
   "cell_type": "markdown",
   "metadata": {},
   "source": [
    "### MASE (Mean Absolute Scaled Error)"
   ]
  },
  {
   "cell_type": "markdown",
   "metadata": {},
   "source": [
    "MASE is a metric that allows you to compare two models. Using the MAE for each model, you can put the MAE for the new model in the numerator and the MAE for the original model in the denominator. If the MASE value is less than 1, then the new model performs better. If the MASE value equals 1, then the models perform the same. If the MASE values is greater than 1, then the original model performed better than the new model.\n",
    "\n",
    "Formula to calculate MASE:\n",
    "    \n",
    "$$MASE = \\frac{MAE_i}{MAE_j}$$"
   ]
  },
  {
   "cell_type": "markdown",
   "metadata": {},
   "source": [
    "## Classification"
   ]
  },
  {
   "cell_type": "markdown",
   "metadata": {},
   "source": [
    "Classification is used to predict discrete outputs. A popular example is the concept of \"Hotdog/Not Hotdog\". Classifiers aim to maximize likelihood to determine what data should be classified as."
   ]
  },
  {
   "cell_type": "markdown",
   "metadata": {},
   "source": [
    "### Accuracy"
   ]
  },
  {
   "cell_type": "markdown",
   "metadata": {},
   "source": [
    "Accuracy is one the most fundamental metrics, but can be often misleading. The reason is due to imbalanced classes. If you have a classifier that reaches 98% accuracy, but 98% of your data is classified as the same label, then your model isn't necessarily very good. This is because your model just labeled everything as the same class. \n",
    "\n",
    "Example: You have 98 \"Hot Dogs\" and 2 \"Not Hot Dogs\". You're model will just label everything as a \"Hot Dog\" no matter what it is and still get 98% accuracy. Even though the model completely ignores everything else. \n",
    "\n",
    "Therefore, you should add methods to balance out your data. (e.g. up/down sampling, synthetic data, etc.)\n",
    "\n",
    "$$ Accuracy = \\frac{True Positives + True Negatives}{N} $$"
   ]
  },
  {
   "cell_type": "markdown",
   "metadata": {},
   "source": [
    "### Precision"
   ]
  },
  {
   "cell_type": "markdown",
   "metadata": {},
   "source": [
    "Precision evaluates how precise your model was at making predictions. This is a good metric to pay attention to if you want your model to be conservative in its flagging of data. An example of using precision wisely would be when you have high costs for each \"positive\" label that comes out of your model.\n",
    "\n",
    "$$Precision = \\frac{True Positives}{True Positives + False Positives}$$"
   ]
  },
  {
   "cell_type": "markdown",
   "metadata": {},
   "source": [
    "### Recall"
   ]
  },
  {
   "cell_type": "markdown",
   "metadata": {},
   "source": [
    "Recall evaluates the sensitivity of your model. Basically it checks how successful your model was at flagging the relevant samples.\n",
    "\n",
    "$$Recall = \\frac{True Positives}{True Positives + False Negatives}$$"
   ]
  },
  {
   "cell_type": "markdown",
   "metadata": {},
   "source": [
    "### F-Score"
   ]
  },
  {
   "cell_type": "markdown",
   "metadata": {},
   "source": [
    "The F-Score, or also referred to as the F-Measure, is the harmonic mean of precision and recall. The F-Score is a great measure if you want to find balance between precision and recall for your model and should be used to find a generally good model.\n",
    "\n",
    "_Note: Below, the subscript \"p\" signifies predictions classified as \"positive\"._\n",
    "\n",
    "$$F = 2 * \\frac{Precision_p * Recall_p}{Precision_p + Recall_p}$$"
   ]
  },
  {
   "cell_type": "markdown",
   "metadata": {},
   "source": [
    "## What are some tools I can use to help generate evaluation metrics?"
   ]
  },
  {
   "cell_type": "markdown",
   "metadata": {},
   "source": [
    "In general, Scikit Learn has great [evaluation metric functions](https://scikit-learn.org/stable/modules/model_evaluation.html). For classification metrics though, the [Classification Report](https://scikit-learn.org/stable/modules/generated/sklearn.metrics.classification_report.html#sklearn.metrics.classification_report) function handles a lot for you and shows model performance at a quick glance. Specifically listing out Precision, Recall, and F-Score."
   ]
  },
  {
   "cell_type": "markdown",
   "metadata": {},
   "source": [
    "## Summary"
   ]
  },
  {
   "cell_type": "markdown",
   "metadata": {},
   "source": [
    "Choose an evaluation metric depending on your use case. Different metrics work better for different purposes. Selecting the appropriate metrics also allow you to be more confident in your model when presenting your data + findings to others. \n",
    "\n",
    "On the flipside, using the wrong evaluation metric can be detrimental to a machine learning use case. A common example is using accuracy with an imbalanced dataset.\n",
    "\n",
    "Need a place to start and want more experience with Python? Check out Scikit Learn's [evaluation metric functions](https://scikit-learn.org/stable/modules/model_evaluation.html)."
   ]
  },
  {
   "cell_type": "markdown",
   "metadata": {},
   "source": [
    "## Links"
   ]
  },
  {
   "cell_type": "markdown",
   "metadata": {},
   "source": [
    "* [Scikit Learn Evaluation Metrics](https://scikit-learn.org/stable/modules/model_evaluation.html#classification-metrics)\n",
    "* [LinkedIn](https://www.linkedin.com/in/frankie-cancino/)\n",
    "* [Twitter](https://twitter.com/frankiecancino)"
   ]
  },
  {
   "cell_type": "code",
   "execution_count": null,
   "metadata": {},
   "outputs": [],
   "source": []
  }
 ],
 "metadata": {
  "kernelspec": {
   "display_name": "Python 3 (ipykernel)",
   "language": "python",
   "name": "python3"
  },
  "language_info": {
   "codemirror_mode": {
    "name": "ipython",
    "version": 3
   },
   "file_extension": ".py",
   "mimetype": "text/x-python",
   "name": "python",
   "nbconvert_exporter": "python",
   "pygments_lexer": "ipython3",
   "version": "3.11.1"
  }
 },
 "nbformat": 4,
 "nbformat_minor": 4
}
