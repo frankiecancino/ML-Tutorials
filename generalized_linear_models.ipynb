{
 "cells": [
  {
   "cell_type": "markdown",
   "metadata": {},
   "source": [
    "# An Overview of Generalized Linear Models"
   ]
  },
  {
   "cell_type": "markdown",
   "metadata": {},
   "source": [
    "## Overview"
   ]
  },
  {
   "cell_type": "markdown",
   "metadata": {},
   "source": [
    "This tutorial is an overview of Generalized Linear Models (GLM's). It is also a continuation of the Linear Regression post, \"What is Linear Regression?\", which can be found [here.](https://medium.com/towards-data-science/what-is-linear-regression-e44d2c4bf025)"
   ]
  },
  {
   "cell_type": "markdown",
   "metadata": {},
   "source": [
    "### What are Generalized Linear Models?"
   ]
  },
  {
   "cell_type": "markdown",
   "metadata": {},
   "source": [
    "Generalized Linear Models are extension of the typical Linear Regression or Ordinary Least Squares (OLS) model. Typically, when using Linear Regression, we assume the data follows a Normal Distribution a.k.a. Gaussian Distribution. However, data can behave according to other types of distributions. Because of this, we have Generalized Linear Models. The Generalized aspect of these models refers to the fact we can train a model with a different data distribution in mind (Gaussian, Poisson, Gamma, etc.) Which can provide a better model of your data."
   ]
  },
  {
   "cell_type": "markdown",
   "metadata": {},
   "source": [
    "### How does this relate to the Linear Regression equation?"
   ]
  },
  {
   "cell_type": "markdown",
   "metadata": {},
   "source": [
    "The formula is similar, but extended! For a basic Linear Regression model, we can write the formula as: $$ y = \\beta_0 + \\beta_1 x_1 + \\beta_2 x_2 ... + \\beta_n x_n + \\epsilon $$\n",
    "\n",
    "The difference now is that we add a \"link\" function to the output, represented by _g()_: $$ g(y) = \\beta_0 + \\beta_1 x_1 + \\beta_2 x_2 ... + \\beta_n x_n + \\epsilon $$"
   ]
  },
  {
   "cell_type": "markdown",
   "metadata": {},
   "source": [
    "### What is the difference?\n",
    "\n",
    "#### The Link Function\n",
    "We will now be predicting our values in association with this link function. An example would be a log link function, which would predict all of our outputs in a log-scale form. Previously, we were using our Linear Regression model to predict values on the same scale as our raw y-values. Using the log-scale example, if we wanted to get the real values we care about (revert back from log-scale) — we would run our predictions through an exponential function.\n",
    "\n",
    "#### The Unit Deviance and Loss Function\n",
    "The distribution your data follows really impacts the loss function you will want to use for your model training process. For example, if all of your data is non-negative (every value is positive) and you typically get low integer values (no decimals) — you may want to use a Poisson or Negative Binomial distribution. If your data ranges from negative to positive values and typically are float/double type values — then you may want to consider sticking to a Gaussian distribution. This is where you will need to conduct some investigation into what distribution works best for your data."
   ]
  },
  {
   "cell_type": "markdown",
   "metadata": {},
   "source": [
    "## Now for an Example"
   ]
  },
  {
   "cell_type": "markdown",
   "metadata": {},
   "source": [
    "For this example, we will be using Scikit Learn. I am going to create some fake sample data about number of units sold for a product. As well as creating the columns for price, some measurement of the unit size, unit weight, and then the number of units sold."
   ]
  },
  {
   "cell_type": "markdown",
   "metadata": {},
   "source": [
    "### Imports"
   ]
  },
  {
   "cell_type": "markdown",
   "metadata": {},
   "source": [
    "Here we are importing the libraries Numpy and Scikit Learn. Numpy is used to create data structures, while scikit learn is used for the modeling."
   ]
  },
  {
   "cell_type": "code",
   "execution_count": 1,
   "metadata": {},
   "outputs": [],
   "source": [
    "# Import numpy to create numpy arrays\n",
    "import numpy as np\n",
    "\n",
    "# Import a TweedieRegressor, which allows us to choose a link function and specify which type of data distribution\n",
    "from sklearn.linear_model import TweedieRegressor"
   ]
  },
  {
   "cell_type": "markdown",
   "metadata": {},
   "source": [
    "### Create some sample data"
   ]
  },
  {
   "cell_type": "markdown",
   "metadata": {},
   "source": [
    "The data we have created here is some fake data on units of a product sold and their respective features associated with price, measurement, and weight."
   ]
  },
  {
   "cell_type": "code",
   "execution_count": 46,
   "metadata": {},
   "outputs": [],
   "source": [
    "# Creating sample data\n",
    "price = [1.99, 1.49, 2.99, 3.99, 1.99, 2.49, 3.99, 2.99, 1.99, 0.99]\n",
    "measurement = [0.2, 0.4, 0.1, 0.1, 0.2, 0.1, 0.1, 0.1, 0.2, 0.5]\n",
    "weight = [2, 4, 1, 1, 2, 1, 1, 1, 2, 5]\n",
    "units_sold = np.array([1, 2, 1, 0, 2, 0, 0, 0, 1, 4])"
   ]
  },
  {
   "cell_type": "markdown",
   "metadata": {},
   "source": [
    "#### Looking at the Distribution of our Target Variable"
   ]
  },
  {
   "cell_type": "code",
   "execution_count": 54,
   "metadata": {},
   "outputs": [
    {
     "data": {
      "image/png": "[encoded data removed]",
      "text/plain": [
       "<Figure size 432x288 with 1 Axes>"
      ]
     },
     "metadata": {
      "needs_background": "light"
     },
     "output_type": "display_data"
    }
   ],
   "source": [
    "from matplotlib import pyplot as plt\n",
    "\n",
    "plt.hist(units_sold, bins = [0, 1, 2, 3, 4, 5], density = True)\n",
    "plt.vlines(np.mean(units_sold), ymin = 0, ymax = 0.4, linestyles = 'dashed')\n",
    "plt.xlabel('Units Sold')\n",
    "plt.ylabel('Probability')\n",
    "plt.title('Probability Density of Units Sold')\n",
    "plt.show()"
   ]
  },
  {
   "cell_type": "markdown",
   "metadata": {},
   "source": [
    "Using the plot above, we can see our units sold falls roughly along a Poisson distribution. With a lambda or mean value of just greater than 1."
   ]
  },
  {
   "cell_type": "markdown",
   "metadata": {},
   "source": [
    "### Structuring the data"
   ]
  },
  {
   "cell_type": "markdown",
   "metadata": {},
   "source": [
    "These two lines are to shape the data properly to use with scikit learn. We stack the multiple arrays (or the x's) into one numpy object. While also specifying the \"shape\" of the units_sold array."
   ]
  },
  {
   "cell_type": "code",
   "execution_count": 62,
   "metadata": {},
   "outputs": [],
   "source": [
    "# Combining the multiple lists into one object called \"X\"\n",
    "X = np.column_stack([price, measurement, weight])\n",
    "# Reshaping the units_sold list to work with scikit learn\n",
    "y = units_sold.reshape(-1, 1)"
   ]
  },
  {
   "cell_type": "markdown",
   "metadata": {},
   "source": [
    "### Creating a Generalized Linear Model"
   ]
  },
  {
   "cell_type": "markdown",
   "metadata": {},
   "source": [
    "Now we can create a Generalized Linear Model, specifically using a log-link function and Poisson distribution"
   ]
  },
  {
   "cell_type": "code",
   "execution_count": 56,
   "metadata": {},
   "outputs": [
    {
     "name": "stderr",
     "output_type": "stream",
     "text": [
      "/Users/frankiecancino/.pyenv/versions/3.7.6/lib/python3.7/site-packages/sklearn/utils/validation.py:993: DataConversionWarning: A column-vector y was passed when a 1d array was expected. Please change the shape of y to (n_samples, ), for example using ravel().\n",
      "  y = column_or_1d(y, warn=True)\n"
     ]
    }
   ],
   "source": [
    "# Instantiating the model object\n",
    "# Power = 0 represents Normal Distribution\n",
    "# Power = 1 represents Poisson distribution\n",
    "# For more information visit the documentation at https://scikit-learn.org/stable/modules/generated/sklearn.linear_model.TweedieRegressor.html#sklearn.linear_model.TweedieRegressor\n",
    "poisson_model = TweedieRegressor(power = 1, link = 'log')\n",
    "\n",
    "# Fitting the model with data\n",
    "fitted_model = poisson_model.fit(X, y)"
   ]
  },
  {
   "cell_type": "markdown",
   "metadata": {},
   "source": [
    "We have trained a generalized linear model, using a log-link function and assuming a Poisson distribution!"
   ]
  },
  {
   "cell_type": "markdown",
   "metadata": {},
   "source": [
    "### What do our predictions look like?"
   ]
  },
  {
   "cell_type": "markdown",
   "metadata": {},
   "source": [
    "#### Creating some test data"
   ]
  },
  {
   "cell_type": "code",
   "execution_count": 57,
   "metadata": {},
   "outputs": [],
   "source": [
    "# Creating sample data\n",
    "test_price = [0.99, 2.49, 1.49, 1.99, 4.99]\n",
    "test_measurement = [0.4, 0.1, 0.3, 0.2, 0.1]\n",
    "test_weight = [4, 1, 3, 2, 1]\n",
    "\n",
    "# Combining the multiple lists into one object called \"test_X\"\n",
    "test_X = np.column_stack([test_price, test_measurement, test_weight])"
   ]
  },
  {
   "cell_type": "code",
   "execution_count": 30,
   "metadata": {},
   "outputs": [
    {
     "name": "stdout",
     "output_type": "stream",
     "text": [
      "[2.25191053 0.53114966 1.39136067 0.85966316 0.28747401]\n"
     ]
    }
   ],
   "source": [
    "predictions = fitted_model.predict(test_X)\n",
    "print(predictions)"
   ]
  },
  {
   "cell_type": "markdown",
   "metadata": {},
   "source": [
    "Our predictions look fairly reasonable. Since this is all made-up sample data, it's hard to say if our model is doing well or not. However, all values are positive and follow our sample data to an extent."
   ]
  },
  {
   "cell_type": "markdown",
   "metadata": {},
   "source": [
    "### What would this look like with an Ordinary Least Squares Linear Regression model?"
   ]
  },
  {
   "cell_type": "markdown",
   "metadata": {},
   "source": [
    "#### Train and use a Linear Regression Model"
   ]
  },
  {
   "cell_type": "code",
   "execution_count": 61,
   "metadata": {},
   "outputs": [
    {
     "name": "stdout",
     "output_type": "stream",
     "text": [
      "[[ 2.85362319]\n",
      " [ 0.41884058]\n",
      " [ 2.04202899]\n",
      " [ 1.23043478]\n",
      " [-0.23333333]]\n"
     ]
    }
   ],
   "source": [
    "from sklearn.linear_model import LinearRegression\n",
    "\n",
    "# Instantiating the model object\n",
    "ols_model = LinearRegression()\n",
    "\n",
    "# Fitting the model with data\n",
    "fitted_ols_model = ols_model.fit(X, y)\n",
    "ols_predictions = ols_model.predict(test_X)\n",
    "print(ols_predictions)"
   ]
  },
  {
   "cell_type": "markdown",
   "metadata": {},
   "source": [
    "The predictions don't look too bad, but notice that one of the predictions ends up being negative. This is because the Linear Regression model is assuming a Gaussian Distribution as its value domain and therefore is allowing negative value predictions because of this assumption."
   ]
  },
  {
   "cell_type": "markdown",
   "metadata": {},
   "source": [
    "## What could you do next to improve your model?"
   ]
  },
  {
   "cell_type": "markdown",
   "metadata": {},
   "source": [
    "Some next steps on how to make your model better include:\n",
    "- Collect more data. The more (good) data the better for machine learning models.\n",
    "- Understand your data. Really look into the behavior and find out which distribution matches your real-world datasets.\n",
    "- Normalize your data. It makes learning difficult for the model when you don't scale your data since it could weigh features, that just have higher values naturally, more than others.\n",
    "- Regularization. This attempts to use features or inputs that impact the model more, while weighing others lower. Specifically, Lasso or Ridge regression.\n",
    "- Look into Additive models. In a future post, I will be going over Generalized Additive Models."
   ]
  },
  {
   "cell_type": "markdown",
   "metadata": {},
   "source": [
    "## Conclusion"
   ]
  },
  {
   "cell_type": "markdown",
   "metadata": {},
   "source": [
    "Generalized Linear Models (GLM's) are a powerful technique to model your data. For many use cases, a GLM will add value and create an impact immediately. Assuming the due diligence has been done with respect to exploratory analysis on the dataset, a GLM can model the data quite well. I will again emphasize the importance of understanding your data! The more you know, the easier it will be to find techniques to create impactful models."
   ]
  },
  {
   "cell_type": "markdown",
   "metadata": {},
   "source": [
    "## Bio"
   ]
  },
  {
   "cell_type": "markdown",
   "metadata": {},
   "source": [
    "Frankie Cancino is a Data Scientist for Mercedes-Benz Research & Development."
   ]
  },
  {
   "cell_type": "markdown",
   "metadata": {},
   "source": [
    "### Links\n",
    "* [Scikit-Learn Docs](https://scikit-learn.org/stable/)\n",
    "* [LinkedIn](https://www.linkedin.com/in/frankie-cancino/)\n",
    "* [Twitter](https://twitter.com/frankiecancino)"
   ]
  },
  {
   "cell_type": "code",
   "execution_count": null,
   "metadata": {},
   "outputs": [],
   "source": []
  }
 ],
 "metadata": {
  "kernelspec": {
   "display_name": "Python 3",
   "language": "python",
   "name": "python3"
  },
  "language_info": {
   "codemirror_mode": {
    "name": "ipython",
    "version": 3
   },
   "file_extension": ".py",
   "mimetype": "text/x-python",
   "name": "python",
   "nbconvert_exporter": "python",
   "pygments_lexer": "ipython3",
   "version": "3.7.6"
  }
 },
 "nbformat": 4,
 "nbformat_minor": 4
}
