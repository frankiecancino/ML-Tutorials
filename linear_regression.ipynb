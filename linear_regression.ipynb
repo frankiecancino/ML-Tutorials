{
 "cells": [
  {
   "cell_type": "markdown",
   "metadata": {},
   "source": [
    "# What is Linear Regression?"
   ]
  },
  {
   "cell_type": "markdown",
   "metadata": {},
   "source": [
    "## Overview"
   ]
  },
  {
   "cell_type": "markdown",
   "metadata": {},
   "source": [
    "This tutorial is on the basics of linear regression. It is also a continuation of the Intro to Machine Learning post, \"What is Machine Learning?\", which can be found [here.](https://medium.com/swlh/what-is-machine-learning-ff27b518909b)"
   ]
  },
  {
   "cell_type": "markdown",
   "metadata": {},
   "source": [
    "### So what is linear regression?"
   ]
  },
  {
   "cell_type": "markdown",
   "metadata": {},
   "source": [
    "Linear regression is one of the fundamental tools for data scientists and machine learning practitioners. We reference the equation `y = mx + b` in the \"What is Machine Learning?\" post, which can be thought of as the basis of linear regression. Linear regression models are highly explainable, quick to train, can provide insights into your data, and be further optimized to make better predictions. If you're just starting out with data science or machine learning, it's  a good idea to dive into linear regression to get an understanding of how data can be estimated using functions."
   ]
  },
  {
   "cell_type": "markdown",
   "metadata": {},
   "source": [
    "### How does Linear Regression relate to the y = mx + b equation?"
   ]
  },
  {
   "cell_type": "markdown",
   "metadata": {},
   "source": [
    "The formula is very similar! Instead of `y = mx + b`, with Linear Regression we typically write the equation as: $$ y = \\beta_0 + \\beta_1 * x_1 + \\beta_2 * x_2 ... + \\beta_n * x_n + \\epsilon $$\n",
    "\n",
    "Or without the multiplication symbols: $$ y = \\beta_0 + \\beta_1 x_1 + \\beta_2 x_2 ... + \\beta_n x_n + \\epsilon $$\n",
    "\n",
    "**Don't worry, it's not as complicated as it may look!**"
   ]
  },
  {
   "cell_type": "markdown",
   "metadata": {},
   "source": [
    "### Let's take a look at the equation\n",
    "\n",
    "#### What is y?\n",
    "We still have `y` just like in `y = mx + b`, which is the output. This is the y-axis value you care about and want to find what columns or features impact it.\n",
    "\n",
    "#### What is $ \\beta_0 $?\n",
    "We also have $ \\beta_0 $, pronounced \"Beta Not\", and think of this as the y-intercept which is found as `b` in `y = mx + b`. \n",
    "\n",
    "#### What about the $ \\beta x $ stuff?\n",
    "Now that you know we have `y` and `b` from `y = mx + b` that leaves us with `mx`. If you guessed, this is what we are seeing with the $ \\beta x $ or the Betas with their corresponding x's. The Betas are like the slopes or `m` in `y = mx + b`. The x's are the inputs from the data. An example of `x` can be marketing dollars you put into a project and then you want `y` to tell you approximately how much revenue you get out of it. Since in linear regression and machine learning we typically have more than one `x` or column of data to help us determine its relationship with `y`, we also have many Betas to pair with those many `x`'s. This would be like if you had multiple `mx`'s in your `y = mx + b` equation. \n",
    "\n",
    "#### So what are the Betas exactly?\n",
    "As for $ \\beta $ these are what are called the coefficients. These are very important and essentially explain your model. These are the weights and learned values from linear regression which tell you how much each feature or column impacts your prediction or y-axis variable.\n",
    "\n",
    "#### Okay, then what's that last greek letter $ \\epsilon $ at the end?\n",
    "That greek letter is epsilon. This essentially says you will have some unexplained error in your model. Another way of putting it is that you probably won't be able to explain everything going on in your data with this short equation, so we throw $ \\epsilon $ there at the end to signify that there is just some error or noise going on we can't explain right now."
   ]
  },
  {
   "cell_type": "markdown",
   "metadata": {},
   "source": [
    "## Let's Go Through An Example"
   ]
  },
  {
   "cell_type": "markdown",
   "metadata": {},
   "source": [
    "For this example, we really just need Scikit Learn. If you aren't familiar with Scikit Learn, it is one of the most popular Python libraries to run machine learning algorithms. I am going to create some fake sample data about housing prices. I will be creating the columns for number of bedrooms, number of bathrooms, the square footage, and then for the price of the house. In this example think of the price of the house as the y-axis or `y` and all of the other columns as the multiple `x`'s in our equation. After running the data through a Linear Regression model, we should see how they impacted the price of the house."
   ]
  },
  {
   "cell_type": "markdown",
   "metadata": {},
   "source": [
    "**Note**: I will generate some sample data and use Numpy to store the data in an object. This isn't specifically needed to run Linear Regression, but are used just for the sake of the example."
   ]
  },
  {
   "cell_type": "markdown",
   "metadata": {},
   "source": [
    "### Imports"
   ]
  },
  {
   "cell_type": "markdown",
   "metadata": {},
   "source": [
    "Here we are importing the libraries Numpy and Scikit Learn. Numpy is used to create data structures, while scikit learn is used for a lot of machine learning use cases."
   ]
  },
  {
   "cell_type": "code",
   "execution_count": 1,
   "metadata": {},
   "outputs": [],
   "source": [
    "# Import numpy to create numpy arrays\n",
    "import numpy as np\n",
    "\n",
    "# Import Scikit-Learn to allow us to run Linear Regression\n",
    "from sklearn.linear_model import LinearRegression"
   ]
  },
  {
   "cell_type": "markdown",
   "metadata": {},
   "source": [
    "### Creating some sample data"
   ]
  },
  {
   "cell_type": "markdown",
   "metadata": {},
   "source": [
    "The data we have created here is some fake sample data on housing prices and their respective features associated with number of bedrooms, bathrooms, and its square footage.\n",
    "\n",
    "**Note**: These prices are represented in 100k. So 150 really means 150k or 150,000 dollars instead of just 150 dollars."
   ]
  },
  {
   "cell_type": "code",
   "execution_count": 2,
   "metadata": {},
   "outputs": [],
   "source": [
    "# Creating sample data\n",
    "# Price is represented in 100k dollars\n",
    "price = np.array([150, 500, 225, 975, 735, 950, 325, 680, 220, 330])\n",
    "beds = [2, 4, 3, 5, 4, 5, 3, 4, 2, 3]\n",
    "baths = [1, 2, 2, 3, 2, 3, 2, 2, 1, 2]\n",
    "sq_ft = [1100, 2800, 1500, 4800, 3500, 5000, 2200, 3100, 1650, 2000]"
   ]
  },
  {
   "cell_type": "markdown",
   "metadata": {},
   "source": [
    "### Structuring the data"
   ]
  },
  {
   "cell_type": "markdown",
   "metadata": {},
   "source": [
    "These two lines are to shape the data properly to use with scikit learn. We stack the multiple arrays (or the x's) into one numpy object. While also specifying the \"shape\" of the price array."
   ]
  },
  {
   "cell_type": "code",
   "execution_count": 3,
   "metadata": {},
   "outputs": [],
   "source": [
    "# Combining the multiple lists into one object called \"X\"\n",
    "X = np.column_stack([beds, baths, sq_ft])\n",
    "# Reshaping the price list to work with scikit learn\n",
    "y = price.reshape(-1, 1)"
   ]
  },
  {
   "cell_type": "markdown",
   "metadata": {},
   "source": [
    "### Creating a Linear Regression Model"
   ]
  },
  {
   "cell_type": "markdown",
   "metadata": {},
   "source": [
    "Now we can create the shell of the linear regression model using this line below."
   ]
  },
  {
   "cell_type": "code",
   "execution_count": 4,
   "metadata": {},
   "outputs": [],
   "source": [
    "# Instantiating the model object\n",
    "model = LinearRegression()"
   ]
  },
  {
   "cell_type": "markdown",
   "metadata": {},
   "source": [
    "Once we have created the shell, we need to fit the model with data. This is how we can get the Beta values and find some function that can approximate a house's price, given its number of bedrooms, bathrooms, and its square footage."
   ]
  },
  {
   "cell_type": "code",
   "execution_count": 5,
   "metadata": {},
   "outputs": [],
   "source": [
    "# Fitting the model with data\n",
    "fitted_model = model.fit(X, y)"
   ]
  },
  {
   "cell_type": "markdown",
   "metadata": {},
   "source": [
    "We have trained a linear regression model! Now let's take a look at the coefficients and decipher what they mean."
   ]
  },
  {
   "cell_type": "code",
   "execution_count": 6,
   "metadata": {},
   "outputs": [
    {
     "name": "stdout",
     "output_type": "stream",
     "text": [
      "The coefficient, or the beta one value, for number of bedrooms = 115.55210418237826\n",
      "The coefficient, or the beta two value, for number of bathrooms = -112.47160198590979\n",
      "The coefficient, or the beta three value, for square footage = 0.18603883444673386\n",
      "The y-intercept, or the 'beta not' value = -184.8865379117235\n"
     ]
    }
   ],
   "source": [
    "# Printing out the coefficients for each feature and the y-intercept\n",
    "print(f\"The coefficient, or the beta one value, for number of bedrooms = {fitted_model.coef_[0][0]}\")\n",
    "print(f\"The coefficient, or the beta two value, for number of bathrooms = {fitted_model.coef_[0][1]}\")\n",
    "print(f\"The coefficient, or the beta three value, for square footage = {fitted_model.coef_[0][2]}\")\n",
    "print(f\"The y-intercept, or the 'beta not' value = {fitted_model.intercept_[0]}\")"
   ]
  },
  {
   "cell_type": "markdown",
   "metadata": {},
   "source": [
    "## Interpreting the model & its coefficients"
   ]
  },
  {
   "cell_type": "markdown",
   "metadata": {},
   "source": [
    "### So what do these Beta values or the coefficients mean?"
   ]
  },
  {
   "cell_type": "markdown",
   "metadata": {},
   "source": [
    "#### Let's start with the y-intercept a.k.a $ \\beta_0 $ or \"Beta Not\"."
   ]
  },
  {
   "cell_type": "markdown",
   "metadata": {},
   "source": [
    "This value is approximately -184.89, so what does this mean? Well it means that if we had 0 bedrooms, 0 bathrooms, and 0 square footage (0's across the board) we'd end up with a negative price of -184k for a house. Now obviously this is unrealistic, but remember a model like this doesn't have an understanding of how housing prices work. Really just think of this as the y-intercept, whether or not it makes sense in this case."
   ]
  },
  {
   "cell_type": "markdown",
   "metadata": {},
   "source": [
    "#### Next lets look at the other coefficients."
   ]
  },
  {
   "cell_type": "markdown",
   "metadata": {},
   "source": [
    "Starting with number of bedrooms, the coefficient value is ~115.56. This means that if the number of bedrooms increased by one (and the other inputs did not change) the price of the house will increase by ~115k dollars, on average. This is the same with the square footage coefficient, except the price would increase by ~0.19k dollars on average if square footage were to increase by one square foot. Think of the coefficients as the slope values or `m` in `y = mx + b`. As `x` increases, the slope is ~115.56, in the case of bedrooms, and increases the y-axis by this much."
   ]
  },
  {
   "cell_type": "markdown",
   "metadata": {},
   "source": [
    "#### What's going on with the negative coefficient and bathrooms?"
   ]
  },
  {
   "cell_type": "markdown",
   "metadata": {},
   "source": [
    "This is a great question. What this means is that for every increase in number of bathrooms, the model expects the price to drop by ~112k dollars. That's why we see a negative value. Does this make sense? Not really. However, this was a good sample problem to show you can have negative coefficients and how we can interpret them. In machine learning we also have to be wary of collinearity, or when multiple features are extremely correlated with one another. Also, more data helps with underfit machine learning models."
   ]
  },
  {
   "cell_type": "markdown",
   "metadata": {},
   "source": [
    "## What would you do next?"
   ]
  },
  {
   "cell_type": "markdown",
   "metadata": {},
   "source": [
    "Some next steps on how to make your model better include:\n",
    "- Adding more rows of data\n",
    "- Normalize your data. Scale each column between 0 and 1 or between -1 and 1 to help the model. It makes learning difficult for the model when you don't scale your data since it could weigh features, that just have higher values naturally, more than others.\n",
    "- Regularization (this attempts to use features or inputs that impact the model more, while weighing others lower) with Lasso or Ridge regression.\n",
    "- Finding more features or columns to use.\n",
    "- Look into Additive models or other Regression models."
   ]
  },
  {
   "cell_type": "markdown",
   "metadata": {},
   "source": [
    "## Conclusion"
   ]
  },
  {
   "cell_type": "markdown",
   "metadata": {},
   "source": [
    "I hope this tutorial was informative and you can take away learnings about linear regression. Linear Regression is a fundamental tool in any Data Scientist's tool belt. You can look at coefficients and attempt to learn what data is impacting your model. You can use Linear Regression as a baseline tool to determine if other models may be better. Linear Regression is quick to train and doesn't require a lot of data. Although, in many cases it can be too simple. Therefore, don't count out more complex methods or additional methods to make your linear model better!"
   ]
  },
  {
   "cell_type": "markdown",
   "metadata": {},
   "source": [
    "### Links\n",
    "* [Scikit-Learn Docs](https://scikit-learn.org/stable/)\n",
    "* [LinkedIn](https://www.linkedin.com/in/frankie-cancino/)\n",
    "* [Twitter](https://twitter.com/frankiecancino)"
   ]
  },
  {
   "cell_type": "code",
   "execution_count": null,
   "metadata": {},
   "outputs": [],
   "source": []
  }
 ],
 "metadata": {
  "kernelspec": {
   "display_name": "Python 3 (ipykernel)",
   "language": "python",
   "name": "python3"
  },
  "language_info": {
   "codemirror_mode": {
    "name": "ipython",
    "version": 3
   },
   "file_extension": ".py",
   "mimetype": "text/x-python",
   "name": "python",
   "nbconvert_exporter": "python",
   "pygments_lexer": "ipython3",
   "version": "3.11.1"
  }
 },
 "nbformat": 4,
 "nbformat_minor": 4
}
